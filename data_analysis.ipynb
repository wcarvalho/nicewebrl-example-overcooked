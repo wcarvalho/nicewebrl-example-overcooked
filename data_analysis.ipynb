{
 "cells": [
  {
   "cell_type": "code",
   "execution_count": 1,
   "id": "85ea6f45-f94e-4cc7-9c33-78e598e5ec4c",
   "metadata": {},
   "outputs": [],
   "source": [
    "%load_ext autoreload\n",
    "%autoreload 2"
   ]
  },
  {
   "cell_type": "code",
   "execution_count": 2,
   "id": "02ad99fe-dbd3-4bde-8f60-99d269a9c897",
   "metadata": {},
   "outputs": [],
   "source": [
    "from nicewebrl import data_analysis\n",
    "from flax import serialization\n",
    "import jax\n",
    "import environment"
   ]
  },
  {
   "cell_type": "code",
   "execution_count": 3,
   "id": "f4c4fa52-3cde-4d22-97b2-3f396dfe3875",
   "metadata": {},
   "outputs": [],
   "source": [
    "from nicewebrl.utils import read_all_records\n",
    "\n",
    "file_path = \"example_data.msgpack\"\n",
    "data_dicts = await read_all_records(file_path)"
   ]
  },
  {
   "cell_type": "code",
   "execution_count": 4,
   "id": "1a20c3ef-f4c6-4f9f-bb4a-e43fa5b26466",
   "metadata": {},
   "outputs": [
    {
     "data": {
      "text/plain": [
       "11"
      ]
     },
     "execution_count": 4,
     "metadata": {},
     "output_type": "execute_result"
    }
   ],
   "source": [
    "len(data_dicts)"
   ]
  },
  {
   "cell_type": "markdown",
   "id": "2a87b81b-0c7b-46b5-8122-6ebb871da2b3",
   "metadata": {},
   "source": [
    "EVERY SINGLE TIMESTEP of EVERY EPISODE is all in ONE GIANT list\n",
    "\n",
    "we want to separate them out. \n",
    "\n",
    "I'll separate them out into episodes\n"
   ]
  },
  {
   "cell_type": "code",
   "execution_count": 5,
   "id": "5e7acb62-2dca-4dd4-807a-55725751b179",
   "metadata": {},
   "outputs": [
    {
     "name": "stdout",
     "output_type": "stream",
     "text": [
      "Total seconds from 1st time-step to last action: 675.42\n",
      "Total seconds across image-action pairs: 268.41\n"
     ]
    }
   ],
   "source": [
    "# before processing compute times of exp\n",
    "# sum each image-action pair\n",
    "from nicewebrl import time_diff\n",
    "\n",
    "start_end = (\n",
    "  time_diff(\n",
    "    data_dicts[0][\"data\"][\"image_seen_time\"],\n",
    "    data_dicts[-1][\"data\"][\"action_taken_time\"],\n",
    "  )\n",
    "  / 1000\n",
    ")\n",
    "print(f\"Total seconds from 1st time-step to last action: {start_end:.2f}\")\n",
    "\n",
    "# sum each image-action pair\n",
    "total_timestep_times = (\n",
    "  sum(\n",
    "    [\n",
    "      time_diff(d[\"data\"][\"image_seen_time\"], d[\"data\"][\"action_taken_time\"])\n",
    "      for d in data_dicts\n",
    "    ]\n",
    "  )\n",
    "  / 1000\n",
    ")\n",
    "print(f\"Total seconds across image-action pairs: {total_timestep_times:.2f}\")"
   ]
  },
  {
   "cell_type": "markdown",
   "id": "766b5f9a-5145-45fb-a51c-8141ee7c33d6",
   "metadata": {},
   "source": [
    "# Below I'll print out values of a random datapoint"
   ]
  },
  {
   "cell_type": "code",
   "execution_count": 6,
   "id": "06a686a7-a21e-4bee-94cd-dbb0305ab93b",
   "metadata": {},
   "outputs": [
    {
     "name": "stdout",
     "output_type": "stream",
     "text": [
      "-----\n",
      "['stage_idx', 'session_id', 'data', 'user_data', 'metadata', 'name', 'body']\n",
      "--- data ---\n",
      "['image_seen_time',\n",
      " 'action_taken_time',\n",
      " 'computer_interaction',\n",
      " 'action_name',\n",
      " 'action_idx',\n",
      " 'timelimit',\n",
      " 'timestep']\n"
     ]
    }
   ],
   "source": [
    "# 1 timestep datum\n",
    "from pprint import pprint\n",
    "\n",
    "datum = data_dicts[0]\n",
    "print(\"-----\")\n",
    "pprint(list(datum.keys()))\n",
    "print(\"--- data ---\")\n",
    "pprint(list(datum[\"data\"].keys()))"
   ]
  },
  {
   "cell_type": "code",
   "execution_count": 7,
   "id": "40db156e-2ec1-4b9e-b1cf-f596edac2ad5",
   "metadata": {},
   "outputs": [
    {
     "name": "stdout",
     "output_type": "stream",
     "text": [
      "------\n",
      "session_id : 1048160331\n",
      "stage_idx : 1\n",
      "--- data ---\n",
      "image_seen_time : 2025-01-20T23:39:59.678Z\n",
      "action_taken_time : 2025-01-20T23:40:02.788Z\n",
      "computer_interaction : ArrowLeft\n",
      "action_name : left\n",
      "action_idx : 3\n"
     ]
    }
   ],
   "source": [
    "print(\"------\")\n",
    "\n",
    "for key in [\n",
    "  # \"id\",  # time-step idx. global\n",
    "  \"session_id\",  # browser session id\n",
    "  \"stage_idx\",\n",
    "]:\n",
    "  print(key, \":\", datum[key])\n",
    "\n",
    "print(\"--- data ---\")\n",
    "for key in [\n",
    "  \"image_seen_time\",\n",
    "  \"action_taken_time\",\n",
    "  \"computer_interaction\",\n",
    "  \"action_name\",\n",
    "  \"action_idx\",\n",
    "]:\n",
    "  print(key, \":\", datum[\"data\"][key])"
   ]
  },
  {
   "cell_type": "code",
   "execution_count": 8,
   "id": "293839a6-7781-4886-9524-513462aaab24",
   "metadata": {},
   "outputs": [
    {
     "data": {
      "text/plain": [
       "{'desc': 'some description',\n",
       " 'key1': 'value1',\n",
       " 'key2': 'value2',\n",
       " 'type': 'EnvStage',\n",
       " 'nsteps': 1,\n",
       " 'nepisodes': 1,\n",
       " 'nsuccesses': 0}"
      ]
     },
     "execution_count": 8,
     "metadata": {},
     "output_type": "execute_result"
    }
   ],
   "source": [
    "datum[\"metadata\"]  # remember, this is for the VERY FIRST timestep of this episode"
   ]
  },
  {
   "cell_type": "code",
   "execution_count": 9,
   "id": "65209996-6049-4f0e-b209-6b6b51b1eee7",
   "metadata": {},
   "outputs": [
    {
     "data": {
      "text/plain": [
       "{'user_id': 2676818349, 'age': None, 'sex': None}"
      ]
     },
     "execution_count": 9,
     "metadata": {},
     "output_type": "execute_result"
    }
   ],
   "source": [
    "datum[\"user_data\"]"
   ]
  },
  {
   "cell_type": "code",
   "execution_count": 10,
   "id": "cdfa0a1f-7670-4dfc-949a-2fb419ac6063",
   "metadata": {},
   "outputs": [
    {
     "name": "stdout",
     "output_type": "stream",
     "text": [
      "Reaction time: 3110.00 milliseconds\n"
     ]
    }
   ],
   "source": [
    "datum = data_dicts[0][\"data\"]\n",
    "action_taken: int = datum[\"action_idx\"]\n",
    "image_seen_time: str = datum[\"image_seen_time\"]\n",
    "action_taken_time: str = datum[\"action_taken_time\"]\n",
    "reaction_time: float = data_analysis.compute_reaction_time(datum)\n",
    "\n",
    "print(f\"Reaction time: {reaction_time:.2f} milliseconds\")"
   ]
  },
  {
   "cell_type": "code",
   "execution_count": 14,
   "id": "93a619cb-10c5-4856-86ac-3c14a99e9348",
   "metadata": {},
   "outputs": [],
   "source": [
    "example_timestep = environment.jax_env.reset(key=jax.random.PRNGKey(0), params=None)"
   ]
  },
  {
   "cell_type": "code",
   "execution_count": 15,
   "id": "dbd7d7e1-d4ba-4e72-a326-302bbcb11917",
   "metadata": {},
   "outputs": [
    {
     "data": {
      "image/png": "[encoded data removed]",
      "text/plain": [
       "<Figure size 400x400 with 1 Axes>"
      ]
     },
     "metadata": {},
     "output_type": "display_data"
    },
    {
     "data": {
      "image/png": "[encoded data removed]",
      "text/plain": [
       "<Figure size 400x400 with 1 Axes>"
      ]
     },
     "metadata": {},
     "output_type": "display_data"
    }
   ],
   "source": [
    "import matplotlib.pyplot as plt\n",
    "\n",
    "\n",
    "def dict_to_string(data):\n",
    "  # Convert each key-value pair to \"key=value\" format\n",
    "  pairs = [f\"{key}={value}\" for key, value in data.items()]\n",
    "\n",
    "  # Join all pairs with \", \" separator\n",
    "  return \", \".join(pairs)\n",
    "\n",
    "\n",
    "# let's just print out the first few time-step to see what they look like\n",
    "keys = set()\n",
    "nidx = 2\n",
    "# nidx = len(data_dicts)\n",
    "for idx in range(nidx):\n",
    "  datum = data_dicts[idx]\n",
    "  # get the information describing block x stage pairs. you can edit this function if you want\n",
    "  title = dict_to_string(datum[\"metadata\"])\n",
    "  timestep = datum[\"data\"][\"timestep\"]\n",
    "  timestep = serialization.from_bytes(example_timestep, timestep)\n",
    "  image = environment.render_fn(timestep)\n",
    "\n",
    "  fig, ax = plt.subplots(1, 1, figsize=(4, 4))\n",
    "  ax.imshow(image)\n",
    "  ax.axis(\"off\")\n",
    "  ax.set_title(title, wrap=True)\n",
    "  plt.show()"
   ]
  },
  {
   "cell_type": "code",
   "execution_count": null,
   "id": "894875d4-d664-4be4-87bb-19f38e76e454",
   "metadata": {},
   "outputs": [],
   "source": []
  }
 ],
 "metadata": {
  "kernelspec": {
   "display_name": "Python 3 (ipykernel)",
   "language": "python",
   "name": "python3"
  },
  "language_info": {
   "codemirror_mode": {
    "name": "ipython",
    "version": 3
   },
   "file_extension": ".py",
   "mimetype": "text/x-python",
   "name": "python",
   "nbconvert_exporter": "python",
   "pygments_lexer": "ipython3",
   "version": "3.10.16"
  }
 },
 "nbformat": 4,
 "nbformat_minor": 5
}
